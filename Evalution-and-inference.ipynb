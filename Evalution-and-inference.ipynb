{
 "cells": [
  {
   "cell_type": "code",
   "execution_count": 132,
   "id": "23a6d8d7",
   "metadata": {},
   "outputs": [],
   "source": [
    "import pandas as pd\n",
    "import numpy as np\n",
    "import sqlite3\n",
    "import warnings\n",
    "warnings.filterwarnings('ignore')"
   ]
  },
  {
   "cell_type": "code",
   "execution_count": 133,
   "id": "076e1c59",
   "metadata": {},
   "outputs": [
    {
     "data": {
      "text/html": [
       "<div>\n",
       "<style scoped>\n",
       "    .dataframe tbody tr th:only-of-type {\n",
       "        vertical-align: middle;\n",
       "    }\n",
       "\n",
       "    .dataframe tbody tr th {\n",
       "        vertical-align: top;\n",
       "    }\n",
       "\n",
       "    .dataframe thead th {\n",
       "        text-align: right;\n",
       "    }\n",
       "</style>\n",
       "<table border=\"1\" class=\"dataframe\">\n",
       "  <thead>\n",
       "    <tr style=\"text-align: right;\">\n",
       "      <th></th>\n",
       "      <th>Unnamed: 0</th>\n",
       "      <th>TWEET_ID</th>\n",
       "      <th>USER_ID</th>\n",
       "      <th>TWEET</th>\n",
       "      <th>EMOJI</th>\n",
       "      <th>TWEET_SENTIMENT</th>\n",
       "      <th>PROCESSED_TWEET</th>\n",
       "      <th>TARGET_EMOJIS_LIST</th>\n",
       "      <th>nltk_aggregated_score</th>\n",
       "      <th>spacy_aggregated_score</th>\n",
       "      <th>hugging_face_score</th>\n",
       "      <th>emoji_score</th>\n",
       "      <th>delta_nltk</th>\n",
       "      <th>delta_spacy</th>\n",
       "      <th>delta_hugging_face</th>\n",
       "    </tr>\n",
       "  </thead>\n",
       "  <tbody>\n",
       "    <tr>\n",
       "      <th>0</th>\n",
       "      <td>0</td>\n",
       "      <td>683805597976924160</td>\n",
       "      <td>155227972</td>\n",
       "      <td>@DavidJo52951945 Think your own goverment is ,...</td>\n",
       "      <td>0x1f602</td>\n",
       "      <td>neutral</td>\n",
       "      <td>think goverment  stupid fool  ask economic sup...</td>\n",
       "      <td>0x1f602</td>\n",
       "      <td>-0.5574</td>\n",
       "      <td>-0.30</td>\n",
       "      <td>0.878392</td>\n",
       "      <td>0.221</td>\n",
       "      <td>0.7784</td>\n",
       "      <td>0.521</td>\n",
       "      <td>0.657392</td>\n",
       "    </tr>\n",
       "    <tr>\n",
       "      <th>1</th>\n",
       "      <td>1</td>\n",
       "      <td>683805941414936576</td>\n",
       "      <td>155227972</td>\n",
       "      <td>@DavidJo52951945 Or maybe that has to be calcu...</td>\n",
       "      <td>0x1f608|0x1f602</td>\n",
       "      <td>negative</td>\n",
       "      <td>maybe calculate cost refugee support first  uk...</td>\n",
       "      <td>0x1f608|0x1f602</td>\n",
       "      <td>-0.0516</td>\n",
       "      <td>0.25</td>\n",
       "      <td>0.845192</td>\n",
       "      <td>0.243</td>\n",
       "      <td>0.2946</td>\n",
       "      <td>0.007</td>\n",
       "      <td>0.602192</td>\n",
       "    </tr>\n",
       "    <tr>\n",
       "      <th>2</th>\n",
       "      <td>2</td>\n",
       "      <td>683879626049888256</td>\n",
       "      <td>374371350</td>\n",
       "      <td>EgencyEnt @yudaichin Welcome ya! 😄</td>\n",
       "      <td>0x1f604</td>\n",
       "      <td>neutral</td>\n",
       "      <td>egencyent welcome ya</td>\n",
       "      <td>0x1f604</td>\n",
       "      <td>0.4588</td>\n",
       "      <td>0.80</td>\n",
       "      <td>-0.674690</td>\n",
       "      <td>0.421</td>\n",
       "      <td>0.0378</td>\n",
       "      <td>0.379</td>\n",
       "      <td>1.095690</td>\n",
       "    </tr>\n",
       "    <tr>\n",
       "      <th>3</th>\n",
       "      <td>4</td>\n",
       "      <td>684018933763014656</td>\n",
       "      <td>63925655</td>\n",
       "      <td>@RedHotSquirrel @PoliticsSense\\nI'm glad to he...</td>\n",
       "      <td>0x1f600</td>\n",
       "      <td>positive</td>\n",
       "      <td>im glad hear  need country control thumbs_up c...</td>\n",
       "      <td>0x1f600</td>\n",
       "      <td>0.4588</td>\n",
       "      <td>0.50</td>\n",
       "      <td>-0.844620</td>\n",
       "      <td>0.568</td>\n",
       "      <td>0.1092</td>\n",
       "      <td>0.068</td>\n",
       "      <td>1.412620</td>\n",
       "    </tr>\n",
       "    <tr>\n",
       "      <th>4</th>\n",
       "      <td>5</td>\n",
       "      <td>684077778308730880</td>\n",
       "      <td>4444414572</td>\n",
       "      <td>They found lumbersexuals making a brexit to th...</td>\n",
       "      <td>0x1f631</td>\n",
       "      <td>neutral</td>\n",
       "      <td>find lumbersexuals make brexit share economy d...</td>\n",
       "      <td>0x1f631</td>\n",
       "      <td>0.2960</td>\n",
       "      <td>-0.15</td>\n",
       "      <td>0.663730</td>\n",
       "      <td>0.190</td>\n",
       "      <td>0.1060</td>\n",
       "      <td>0.340</td>\n",
       "      <td>0.473730</td>\n",
       "    </tr>\n",
       "  </tbody>\n",
       "</table>\n",
       "</div>"
      ],
      "text/plain": [
       "   Unnamed: 0            TWEET_ID     USER_ID  \\\n",
       "0           0  683805597976924160   155227972   \n",
       "1           1  683805941414936576   155227972   \n",
       "2           2  683879626049888256   374371350   \n",
       "3           4  684018933763014656    63925655   \n",
       "4           5  684077778308730880  4444414572   \n",
       "\n",
       "                                               TWEET            EMOJI  \\\n",
       "0  @DavidJo52951945 Think your own goverment is ,...          0x1f602   \n",
       "1  @DavidJo52951945 Or maybe that has to be calcu...  0x1f608|0x1f602   \n",
       "2                 EgencyEnt @yudaichin Welcome ya! 😄          0x1f604   \n",
       "3  @RedHotSquirrel @PoliticsSense\\nI'm glad to he...          0x1f600   \n",
       "4  They found lumbersexuals making a brexit to th...          0x1f631   \n",
       "\n",
       "  TWEET_SENTIMENT                                    PROCESSED_TWEET  \\\n",
       "0         neutral  think goverment  stupid fool  ask economic sup...   \n",
       "1        negative  maybe calculate cost refugee support first  uk...   \n",
       "2         neutral                              egencyent welcome ya    \n",
       "3        positive  im glad hear  need country control thumbs_up c...   \n",
       "4         neutral  find lumbersexuals make brexit share economy d...   \n",
       "\n",
       "  TARGET_EMOJIS_LIST  nltk_aggregated_score  spacy_aggregated_score  \\\n",
       "0            0x1f602                -0.5574                   -0.30   \n",
       "1    0x1f608|0x1f602                -0.0516                    0.25   \n",
       "2            0x1f604                 0.4588                    0.80   \n",
       "3            0x1f600                 0.4588                    0.50   \n",
       "4            0x1f631                 0.2960                   -0.15   \n",
       "\n",
       "   hugging_face_score  emoji_score  delta_nltk  delta_spacy  \\\n",
       "0            0.878392        0.221      0.7784        0.521   \n",
       "1            0.845192        0.243      0.2946        0.007   \n",
       "2           -0.674690        0.421      0.0378        0.379   \n",
       "3           -0.844620        0.568      0.1092        0.068   \n",
       "4            0.663730        0.190      0.1060        0.340   \n",
       "\n",
       "   delta_hugging_face  \n",
       "0            0.657392  \n",
       "1            0.602192  \n",
       "2            1.095690  \n",
       "3            1.412620  \n",
       "4            0.473730  "
      ]
     },
     "execution_count": 133,
     "metadata": {},
     "output_type": "execute_result"
    }
   ],
   "source": [
    "data = pd.read_csv(\"./delta.csv\")\n",
    "data.head()"
   ]
  },
  {
   "cell_type": "code",
   "execution_count": 135,
   "id": "bff74b5b",
   "metadata": {},
   "outputs": [
    {
     "data": {
      "text/plain": [
       "Index(['Unnamed: 0', 'TWEET_ID', 'USER_ID', 'TWEET', 'EMOJI',\n",
       "       'TWEET_SENTIMENT', 'PROCESSED_TWEET', 'TARGET_EMOJIS_LIST',\n",
       "       'nltk_aggregated_score', 'spacy_aggregated_score', 'hugging_face_score',\n",
       "       'emoji_score', 'delta_nltk', 'delta_spacy', 'delta_hugging_face'],\n",
       "      dtype='object')"
      ]
     },
     "execution_count": 135,
     "metadata": {},
     "output_type": "execute_result"
    }
   ],
   "source": [
    "data.columns"
   ]
  },
  {
   "cell_type": "code",
   "execution_count": 136,
   "id": "48aa0187",
   "metadata": {},
   "outputs": [],
   "source": [
    "data['delta_nltk']= data['nltk_aggregated_score'] - data['emoji_score'] \n",
    "data['delta_spacy']= data['spacy_aggregated_score'] - data['emoji_score']\n",
    "data['delta_hugging_face']= data['hugging_face_score'] - data['emoji_score']"
   ]
  },
  {
   "cell_type": "code",
   "execution_count": 137,
   "id": "e9abab7f",
   "metadata": {},
   "outputs": [
    {
     "data": {
      "text/plain": [
       "2085"
      ]
     },
     "execution_count": 137,
     "metadata": {},
     "output_type": "execute_result"
    }
   ],
   "source": [
    "len(data)"
   ]
  },
  {
   "cell_type": "code",
   "execution_count": 138,
   "id": "e91dba11",
   "metadata": {},
   "outputs": [
    {
     "data": {
      "image/png": "[encoded data removed]",
      "text/plain": [
       "<Figure size 432x288 with 1 Axes>"
      ]
     },
     "metadata": {},
     "output_type": "display_data"
    }
   ],
   "source": [
    "import seaborn as sns, numpy as np\n",
    "sns.set_theme(); np.random.seed(0)\n",
    "ax = sns.distplot(data['delta_nltk'])"
   ]
  },
  {
   "cell_type": "code",
   "execution_count": null,
   "id": "54875cd2",
   "metadata": {},
   "outputs": [],
   "source": [
    "ax = sns.distplot(data['delta_spacy'])"
   ]
  },
  {
   "cell_type": "code",
   "execution_count": null,
   "id": "d91ff134",
   "metadata": {},
   "outputs": [],
   "source": [
    "ax = sns.distplot(data['delta_hugging_face'])"
   ]
  },
  {
   "cell_type": "code",
   "execution_count": null,
   "id": "455fa50b",
   "metadata": {},
   "outputs": [],
   "source": [
    "#Gamma Calculation\n",
    "data[\"gamma_text\"] = data[\"delta_nltk\"].map(lambda x: 1 if x > 0 else 0)\n",
    "data[\"gamma_emoticon\"] = data[\"emoji_score\"].map(lambda x: 1 if x > 0 else 0)"
   ]
  },
  {
   "cell_type": "code",
   "execution_count": null,
   "id": "84a930d3",
   "metadata": {},
   "outputs": [],
   "source": [
    "data['gamma'] = data[\"gamma_text\"] & data[\"gamma_emoticon\"]"
   ]
  },
  {
   "cell_type": "code",
   "execution_count": null,
   "id": "76ad6c3d",
   "metadata": {},
   "outputs": [],
   "source": [
    "data['gamma'].value_counts()"
   ]
  },
  {
   "cell_type": "markdown",
   "id": "eb805ded",
   "metadata": {},
   "source": [
    "### What does this mean?\n",
    "About 75% of the tweets have opposite polarity of that of emoticons. Does that mean all of these tweets are non-conformant? No. We need to consider the magnitude of non-conformance as well. So, need to filter the tweets based on the threshold, do the gamma calculation and then analyse the direction of polarity.  "
   ]
  },
  {
   "cell_type": "code",
   "execution_count": 139,
   "id": "3cd6cbdd",
   "metadata": {},
   "outputs": [],
   "source": [
    "deviations = 1\n",
    "threshold1 = data[\"delta_nltk\"].mean() + deviations*data[\"delta_nltk\"].std()\n",
    "threshold2 = data[\"delta_nltk\"].mean() - deviations*data[\"delta_nltk\"].std()"
   ]
  },
  {
   "cell_type": "code",
   "execution_count": 140,
   "id": "bcca0a30",
   "metadata": {},
   "outputs": [
    {
     "name": "stdout",
     "output_type": "stream",
     "text": [
      "0.31083140625520245 -0.5900887569460783\n"
     ]
    }
   ],
   "source": [
    "print(threshold1,threshold2)"
   ]
  },
  {
   "cell_type": "code",
   "execution_count": 141,
   "id": "d8dd2e40",
   "metadata": {},
   "outputs": [
    {
     "name": "stdout",
     "output_type": "stream",
     "text": [
      "[INFO] #Non-conformant tweets: 677 [0.3247002398081535%]\n"
     ]
    },
    {
     "data": {
      "text/plain": [
       "0    359\n",
       "1    318\n",
       "Name: gamma, dtype: int64"
      ]
     },
     "execution_count": 141,
     "metadata": {},
     "output_type": "execute_result"
    }
   ],
   "source": [
    "#Filtering extreme quartiles\n",
    "filtered_data = data[(data[\"delta_nltk\"] > threshold1) | (data[\"delta_nltk\"] < threshold2)]\n",
    "print(f\"[INFO] #Non-conformant tweets: {len(filtered_data)} [{len(filtered_data)/len(data)}%]\")\n",
    "filtered_data[\"gamma_text\"] = filtered_data[\"nltk_aggregated_score\"].map(lambda x: 1 if x > 0 else 0)\n",
    "filtered_data[\"gamma_emoticon\"] = filtered_data[\"emoji_score\"].map(lambda x: 1 if x > 0 else 0)\n",
    "filtered_data['gamma'] = filtered_data['gamma_text']\n",
    "for index,row in filtered_data.iterrows():\n",
    "    if row['gamma_text'] == row['gamma_emoticon']:\n",
    "        row['gamma'] = 1\n",
    "    else:\n",
    "        row['gamma'] = 0\n",
    "filtered_data['gamma'].value_counts()"
   ]
  },
  {
   "cell_type": "code",
   "execution_count": null,
   "id": "7771d221",
   "metadata": {},
   "outputs": [],
   "source": [
    "filtered_data_spacy = data[(data[\"delta_spacy\"] > 0.5) | (data[\"delta_spacy\"] < -0.5)]\n",
    "print(f\"[INFO] #Non-conformant tweets: {len(filtered_data_spacy)} [{len(filtered_data_spacy)/len(data)}%]\")\n",
    "filtered_data_spacy[\"gamma_text\"] = filtered_data_spacy[\"delta_spacy\"].map(lambda x: 1 if x > 0 else 0)\n",
    "filtered_data_spacy[\"gamma_emoticon\"] = filtered_data_spacy[\"emoji_score\"].map(lambda x: 1 if x > 0 else 0)\n",
    "filtered_data_spacy['gamma'] = filtered_data_spacy['gamma_text']\n",
    "for index,row in filtered_data_spacy.iterrows():\n",
    "    if row['gamma_text'] == row['gamma_emoticon']:\n",
    "        row['gamma'] = 1\n",
    "    else:\n",
    "        row['gamma'] = 0\n",
    "filtered_data_spacy['gamma'].value_counts()"
   ]
  },
  {
   "cell_type": "code",
   "execution_count": null,
   "id": "c8e7fc17",
   "metadata": {},
   "outputs": [],
   "source": [
    "filtered_data_hf = data[(data[\"delta_hugging_face\"] > 0.5) | (data[\"delta_hugging_face\"] < -0.5)]\n",
    "print(f\"[INFO] #Non-conformant tweets: {len(filtered_data_hf)} [{len(filtered_data_hf)/len(data)}%]\")\n",
    "filtered_data_hf[\"gamma_text\"] = filtered_data_hf[\"delta_hugging_face\"].map(lambda x: 1 if x > 0 else 0)\n",
    "filtered_data_hf[\"gamma_emoticon\"] = filtered_data_hf[\"emoji_score\"].map(lambda x: 1 if x > 0 else 0)\n",
    "filtered_data_hf['gamma'] = filtered_data_hf['gamma_text']\n",
    "for index,row in filtered_data_hf.iterrows():\n",
    "    if row['gamma_text'] == row['gamma_emoticon']:\n",
    "        row['gamma'] = 1\n",
    "    else:\n",
    "        row['gamma'] = 0\n",
    "filtered_data_hf['gamma'].value_counts()"
   ]
  },
  {
   "cell_type": "code",
   "execution_count": null,
   "id": "71717771",
   "metadata": {},
   "outputs": [],
   "source": [
    "#Descriptive Statistics\n",
    "from scipy import stats\n",
    "stats.describe(data['delta_hugging_face'])"
   ]
  },
  {
   "cell_type": "code",
   "execution_count": null,
   "id": "c2110568",
   "metadata": {},
   "outputs": [],
   "source": [
    "stats.describe(data['delta_nltk'])"
   ]
  },
  {
   "cell_type": "code",
   "execution_count": null,
   "id": "5cf79e89",
   "metadata": {},
   "outputs": [],
   "source": [
    "stats.describe(data['delta_spacy'])"
   ]
  },
  {
   "cell_type": "markdown",
   "id": "4da0bf74",
   "metadata": {},
   "source": [
    "|          | NLTK            | SPACY           | HUGGING FACE |\n",
    "|----------|-----------------|-----------------|--------------|\n",
    "| nobs     | 2085            | 2085            | 2085         |\n",
    "| minmax   | (-1.377, 1.153) | (-1.568, 1.238) |(-1.68, 1.34) |\n",
    "| mean     | -0.1386         | -0.1642         | 0.2468       |\n",
    "| variance | 0.2029          | 0.1474          | 0.3880       |\n",
    "| skewness | 0.0661          | 0.3792          | -1.372       |\n",
    "| kurtosis | -0.2280         | 0.4593          | 1.461        |"
   ]
  },
  {
   "cell_type": "markdown",
   "id": "d8155040",
   "metadata": {},
   "source": [
    "|                                | NLTK      | SPACY     | HUGGING FACE |\n",
    "|--------------------------------|-----------|-----------|--------------|\n",
    "| #Filtered Tweets               | 528 (28%) | 409 (22%) | 865 (46%)    |\n",
    "| #tweets with opposite polarity | 490       | 371       | 706          |"
   ]
  },
  {
   "cell_type": "code",
   "execution_count": 142,
   "id": "2defbc2e",
   "metadata": {},
   "outputs": [],
   "source": [
    "positive_tweets = filtered_data[(filtered_data['gamma_text'] == 1)]\n",
    "negative_tweets = filtered_data[(filtered_data['gamma_text'] == 0)]"
   ]
  },
  {
   "cell_type": "code",
   "execution_count": 143,
   "id": "77bf0975",
   "metadata": {},
   "outputs": [],
   "source": [
    "target_emoji_list = [\n",
    "    '0x1f602', '0x1f60d', '0x1f62d', '0x1f618', '0x1f60a', '0x1f601', '0x1f629', '0x1f64f',\n",
    "    '0x1f60f', '0x1f609', '0x1f64c', '0x1f648', '0x1f604', '0x1f612', '0x1f603', '0x1f614',\n",
    "    '0x1f631', '0x1f61c', '0x1f633', '0x1f621', '0x1f60e', '0x1f622', '0x1f60b', '0x1f64a',\n",
    "    '0x1f634', '0x1f60c', '0x1f61e', '0x1f606', '0x1f61d', '0x1f62a', '0x1f62b', '0x1f605',\n",
    "    '0x1f600', '0x1f61a', '0x1f63b', '0x1f625', '0x1f615', '0x1f624', '0x1f608', '0x1f630',\n",
    "    '0x1f611', '0x1f639', '0x1f620', '0x1f613', '0x1f623', '0x1f610', '0x1f628', '0x1f616', \n",
    "    '0x1f637', '0x1f64b', '0x1f61b', '0x1f62c', '0x1f619', '0x1f646', '0x1f645', '0x1f649',\n",
    "    '0x1f607', '0x1f63f', '0x1f632', '0x1f636', '0x1f635', '0x1f638', '0x1f627', '0x1f62e',\n",
    "    '0x1f63d', '0x1f640', '0x1f647', '0x1f61f', '0x1f62f', '0x1f626', '0x1f64d', '0x1f63a',\n",
    "    '0x1f63e', '0x1f63c', '0x1f64e', '0x1f617'\n",
    "]\n",
    "positive_vector = []\n",
    "negative_vector = []\n",
    "\n",
    "for item in target_emoji_list:\n",
    "    positive_vector.append(0)\n",
    "    negative_vector.append(0)"
   ]
  },
  {
   "cell_type": "code",
   "execution_count": 144,
   "id": "4ddcfdca",
   "metadata": {},
   "outputs": [],
   "source": [
    "for index,tweet in positive_tweets.iterrows():\n",
    "    emoticons = tweet['TARGET_EMOJIS_LIST']\n",
    "    emoticons = emoticons.split(\"|\")\n",
    "    for emoticon in emoticons:\n",
    "        target_emoticon_index = target_emoji_list.index(emoticon)\n",
    "        positive_vector[target_emoticon_index]+=1"
   ]
  },
  {
   "cell_type": "code",
   "execution_count": 145,
   "id": "87831e10",
   "metadata": {},
   "outputs": [],
   "source": [
    "for index,tweet in negative_tweets.iterrows():\n",
    "    emoticons = tweet['TARGET_EMOJIS_LIST']\n",
    "    emoticons = emoticons.split(\"|\")\n",
    "    for emoticon in emoticons:\n",
    "        target_emoticon_index = target_emoji_list.index(emoticon)\n",
    "        negative_vector[target_emoticon_index]+=1"
   ]
  },
  {
   "cell_type": "code",
   "execution_count": 146,
   "id": "3adc2412",
   "metadata": {},
   "outputs": [
    {
     "name": "stdout",
     "output_type": "stream",
     "text": [
      "0.3944954128440367\n"
     ]
    }
   ],
   "source": [
    "from scipy.spatial import distance\n",
    "dissimilarity = distance.braycurtis(positive_vector,negative_vector)\n",
    "print(dissimilarity)"
   ]
  },
  {
   "cell_type": "code",
   "execution_count": null,
   "id": "c4d2cb49",
   "metadata": {},
   "outputs": [],
   "source": [
    "len(positive_tweets)"
   ]
  },
  {
   "cell_type": "code",
   "execution_count": null,
   "id": "16844f27",
   "metadata": {},
   "outputs": [],
   "source": [
    "len(negative_tweets)"
   ]
  },
  {
   "cell_type": "code",
   "execution_count": null,
   "id": "9303e19e",
   "metadata": {},
   "outputs": [],
   "source": [
    "positive_vector = (np.array(positive_vector) / len(positive_tweets)) * 100\n",
    "negative_vector = (np.array(negative_vector) / len(negative_tweets)) * 100\n",
    "dissimilarity = distance.braycurtis(positive_vector,negative_vector)\n",
    "print(dissimilarity)"
   ]
  },
  {
   "cell_type": "code",
   "execution_count": null,
   "id": "11350429",
   "metadata": {},
   "outputs": [],
   "source": []
  },
  {
   "cell_type": "code",
   "execution_count": null,
   "id": "d8cbf9ef",
   "metadata": {},
   "outputs": [],
   "source": [
    "for index,emoti in enumerate(target_emoji_list):\n",
    "    print(f\"{emoti} {positive_vector[index]} {negative_vector[index]}\")"
   ]
  },
  {
   "cell_type": "code",
   "execution_count": null,
   "id": "a70a6ef5",
   "metadata": {},
   "outputs": [],
   "source": [
    "from scipy import spatial\n",
    "result = 1 - spatial.distance.cosine(positive_vector, negative_vector)"
   ]
  },
  {
   "cell_type": "code",
   "execution_count": null,
   "id": "36ff826d",
   "metadata": {},
   "outputs": [],
   "source": [
    "input_to_sarcastic = filtered_data[filtered_data['gamma'] == 0]"
   ]
  },
  {
   "cell_type": "code",
   "execution_count": null,
   "id": "f942eae5",
   "metadata": {},
   "outputs": [],
   "source": [
    "input_to_sarcastic.to_csv(\"input_to_sarcastic.csv\")"
   ]
  },
  {
   "cell_type": "code",
   "execution_count": null,
   "id": "3cd289e1",
   "metadata": {},
   "outputs": [],
   "source": [
    "len(input_to_sarcastic)"
   ]
  },
  {
   "cell_type": "code",
   "execution_count": null,
   "id": "f007c577",
   "metadata": {},
   "outputs": [],
   "source": [
    "set1 = filtered_data[(filtered_data['gamma_text'] != 1) * (filtered_data['gamma_emoticon'] != 1)]"
   ]
  },
  {
   "cell_type": "code",
   "execution_count": null,
   "id": "afa0b4e8",
   "metadata": {},
   "outputs": [],
   "source": [
    "len(set1)"
   ]
  },
  {
   "cell_type": "code",
   "execution_count": null,
   "id": "08869ecf",
   "metadata": {},
   "outputs": [],
   "source": [
    "set2 = filtered_data[(filtered_data['gamma_text'] == 1) * (filtered_data['gamma_emoticon'] == 1)]"
   ]
  },
  {
   "cell_type": "code",
   "execution_count": null,
   "id": "167f0056",
   "metadata": {},
   "outputs": [],
   "source": [
    "len(set2)"
   ]
  },
  {
   "cell_type": "code",
   "execution_count": null,
   "id": "a3da4c71",
   "metadata": {},
   "outputs": [],
   "source": []
  }
 ],
 "metadata": {
  "kernelspec": {
   "display_name": "Python 3 (ipykernel)",
   "language": "python",
   "name": "python3"
  },
  "language_info": {
   "codemirror_mode": {
    "name": "ipython",
    "version": 3
   },
   "file_extension": ".py",
   "mimetype": "text/x-python",
   "name": "python",
   "nbconvert_exporter": "python",
   "pygments_lexer": "ipython3",
   "version": "3.10.4"
  }
 },
 "nbformat": 4,
 "nbformat_minor": 5
}
